{
 "cells": [
  {
   "cell_type": "code",
   "execution_count": 4,
   "metadata": {},
   "outputs": [],
   "source": [
    "%matplotlib inline\n",
    "import matplotlib\n",
    "#create empty arrays for capex and opex of each product\n",
    "capex1 = []\n",
    "opex1 = []\n",
    "capex2 = []\n",
    "opex2 = []\n",
    "capex3 = []\n",
    "opex3 = []\n",
    "#calculate product A\n",
    "def prA(user,cpu):\n",
    "    capex = 0\n",
    "    opex = 0\n",
    "    hw = 5000*cpu\n",
    "    capex = capex + 2*hw #twice because both disaster and production site's should be considered.\n",
    "    hw_m = (hw/10)*4\n",
    "    opex = opex + 2*hw_m\n",
    "    hw = 2*(hw + hw_m)\n",
    "    a1 = 100*user\n",
    "    a2 = 150*user\n",
    "    a3 = 300*user\n",
    "    a4 = 5000*cpu\n",
    "    a5 = 4000*cpu\n",
    "    a6 = 3000*cpu\n",
    "    license_1 = a1 + a2 + a3 + a4 + a5 + a6 #total license of the sub-products\n",
    "    capex = capex + license_1\n",
    "    disaster_site = (a4+a5+a6)*30/100\n",
    "    capex = capex + disaster_site\n",
    "    maintenance_fee = ((license_1 + disaster_site)*18)/100\n",
    "    maintenance_fee = maintenance_fee*4 #starting second year to year 5\n",
    "    opex = opex + maintenance_fee\n",
    "    customization = 200000\n",
    "    capex = capex + customization\n",
    "    customization_m = 120000 #15% maintenance of 200000 for four years\n",
    "    opex = opex + customization_m\n",
    "    TCO = customization_m+customization+maintenance_fee+disaster_site+license_1+hw\n",
    "    capex1.append(capex)\n",
    "    opex1.append(opex)\n",
    "    return TCO #returns the tco of given users\n",
    "#calculate product B\n",
    "def prB(user):\n",
    "    capex = 0\n",
    "    opex = 0\n",
    "    license_2 = user*350\n",
    "    capex = capex + license_2\n",
    "    subscription = 300*user*5 #starting from the first year\n",
    "    opex = opex + subscription\n",
    "    TCO = license_2 + subscription\n",
    "    capex2.append(capex)\n",
    "    opex2.append(opex)\n",
    "    return TCO #returns tco of given users\n",
    "#calculate product C\n",
    "def prC(user,cpu):\n",
    "    capex = 0\n",
    "    opex = 0\n",
    "    hw = 5000*cpu\n",
    "    capex = capex + 2*hw\n",
    "    hw_m = (hw/10)*4\n",
    "    opex = opex + 2*hw_m\n",
    "    hw = 2*(hw + hw_m)\n",
    "    subscription = 25000*cpu*5\n",
    "    opex = opex + subscription\n",
    "    customization = 500000\n",
    "    capex = capex + customization\n",
    "    TCO = customization + subscription + hw\n",
    "    capex3.append(capex)\n",
    "    opex3.append(opex)\n",
    "    return TCO #return tco of given users"
   ]
  },
  {
   "cell_type": "code",
   "execution_count": 5,
   "metadata": {},
   "outputs": [
    {
     "name": "stdout",
     "output_type": "stream",
     "text": [
      "416200.0 269264.0 685464.0\n",
      "105000 450000 555000\n",
      "520000 258000.0 778000.0\n"
     ]
    }
   ],
   "source": [
    "import numpy as np\n",
    "cpuA = []\n",
    "cpuC = []\n",
    "A = []\n",
    "B = []\n",
    "C = []\n",
    "#allocate cpus to users based on the product\n",
    "for user in np.arange (100,1001,50):\n",
    "    if user < 301:\n",
    "        cpuA.append(2)\n",
    "    if user < 401:\n",
    "        cpuC.append(2)\n",
    "    if user > 301 and user < 601:\n",
    "        cpuA.append(4)\n",
    "    if user > 401 and user < 601:\n",
    "        cpuC.append(6)\n",
    "    if user > 601 and user < 1001:\n",
    "        cpuA.append(8)\n",
    "        cpuC.append(8)\n",
    "x = []\n",
    "counter = 0\n",
    "#call the functions for users 100 to 1000\n",
    "for user in np.arange(100,1001,50):\n",
    "    x.append(user)\n",
    "    A.append(prA(user,cpuA[counter]))\n",
    "    B.append(prB(user))\n",
    "    C.append(prC(user,cpuC[counter]))\n",
    "    counter = counter + 1\n",
    "#capex,opex and tco of each product, assuming 300 users\n",
    "print(capex1[4],opex1[4],A[4])\n",
    "print(capex2[4],opex2[4],B[4])\n",
    "print(capex3[4],opex3[4],C[4])"
   ]
  },
  {
   "cell_type": "code",
   "execution_count": 6,
   "metadata": {},
   "outputs": [
    {
     "data": {
      "image/png": "[encoded data removed]",
      "text/plain": [
       "<Figure size 432x288 with 1 Axes>"
      ]
     },
     "metadata": {
      "needs_background": "light"
     },
     "output_type": "display_data"
    }
   ],
   "source": [
    "#plot the line graph\n",
    "import matplotlib.pyplot as plt\n",
    "plA = plt.plot(x,A,color='r',label = 'Product A')\n",
    "plB = plt.plot(x,B,color='b',label = 'Product B')\n",
    "plC = plt.plot(x,C,color='g',label = 'Product C')\n",
    "plt.xlabel('Number of users')\n",
    "plt.ylabel('5 year cost (in £)')\n",
    "plt.xticks(x,x)\n",
    "plt.title('Product A,B and C comparison over 5 years')\n",
    "plt.grid(True)\n",
    "plt.legend()\n",
    "plt.show()"
   ]
  },
  {
   "cell_type": "code",
   "execution_count": null,
   "metadata": {},
   "outputs": [],
   "source": []
  }
 ],
 "metadata": {
  "kernelspec": {
   "display_name": "Python 3",
   "language": "python",
   "name": "python3"
  },
  "language_info": {
   "codemirror_mode": {
    "name": "ipython",
    "version": 3
   },
   "file_extension": ".py",
   "mimetype": "text/x-python",
   "name": "python",
   "nbconvert_exporter": "python",
   "pygments_lexer": "ipython3",
   "version": "3.8.3"
  }
 },
 "nbformat": 4,
 "nbformat_minor": 4
}
